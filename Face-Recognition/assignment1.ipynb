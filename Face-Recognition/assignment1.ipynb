{
 "cells": [
  {
   "cell_type": "markdown",
   "metadata": {},
   "source": [
    "# Pattern Recogintion - Assignment 1"
   ]
  },
  {
   "cell_type": "code",
   "execution_count": 1,
   "metadata": {},
   "outputs": [],
   "source": [
    "import numpy as np\n",
    "from PIL import Image as PImage\n",
    "import matplotlib.pyplot as plt\n",
    "from sklearn.neighbors import KNeighborsClassifier \n",
    "import os\n",
    "from IPython.display import display"
   ]
  },
  {
   "cell_type": "code",
   "execution_count": 2,
   "metadata": {},
   "outputs": [
    {
     "name": "stdout",
     "output_type": "stream",
     "text": [
      "[104 109 104 ...  52  59  56]\n"
     ]
    },
    {
     "data": {
      "image/png": "[encoded data removed]",
      "text/plain": [
       "<PIL.PpmImagePlugin.PpmImageFile image mode=L size=92x112 at 0x21351712D30>"
      ]
     },
     "execution_count": 2,
     "metadata": {},
     "output_type": "execute_result"
    }
   ],
   "source": [
    "# testing pillow library\n",
    "image = PImage.open(\"dataset/s3/9.pgm\")\n",
    "print(np.asarray(image).flatten())\n",
    "image"
   ]
  },
  {
   "cell_type": "markdown",
   "metadata": {},
   "source": [
    "## Preparing data"
   ]
  },
  {
   "cell_type": "code",
   "execution_count": 3,
   "metadata": {},
   "outputs": [],
   "source": [
    "# reading the images, flattening them, and creating data and lavel vectors\n",
    "NUM_SUBJECTS = 40\n",
    "NUM_IMAGE_PER_SUBJECT = 10\n",
    "data_matrix = np.zeros((400, 10304))\n",
    "image_index = 0\n",
    "label_vector = np.zeros(400)\n",
    "for i in range(1, NUM_SUBJECTS + 1):\n",
    "  for j in range(1, NUM_IMAGE_PER_SUBJECT + 1):\n",
    "    image = PImage.open(f\"dataset/s{i}/{j}.pgm\")\n",
    "    data = np.asarray(image)\n",
    "    data_matrix[image_index, :] = data.flatten()\n",
    "    label_vector[image_index] = i\n",
    "    image_index += 1\n",
    "    image.close()"
   ]
  },
  {
   "cell_type": "code",
   "execution_count": 5,
   "metadata": {},
   "outputs": [
    {
     "data": {
      "image/png": "[encoded data removed]",
      "text/plain": [
       "<PIL.Image.Image image mode=L size=112x92 at 0x213517AACC0>"
      ]
     },
     "execution_count": 5,
     "metadata": {},
     "output_type": "execute_result"
    }
   ],
   "source": [
    "PImage.fromarray(data_matrix[1].reshape((92,112)), 'L')"
   ]
  },
  {
   "cell_type": "code",
   "execution_count": 6,
   "metadata": {},
   "outputs": [],
   "source": [
    "# splitting the data\n",
    "total_number_of_data = label_vector.shape[0]\n",
    "data_trainin_fraction = int(total_number_of_data / 2)\n",
    "data_testing_fracrion = int(total_number_of_data / 2)\n",
    "\n",
    "training_data = np.zeros((200,10304))\n",
    "testing_data = np.zeros((200,10304))\n",
    "\n",
    "training_labels = np.zeros(200)\n",
    "testing_labels =  np.zeros(200)\n",
    "\n",
    "# odd rows are training data\n",
    "image_index = 0\n",
    "for i in range(1, 400, 2):\n",
    "    training_data[image_index, :] = data_matrix[i]\n",
    "    training_labels[image_index] = label_vector[i]\n",
    "    image_index += 1  \n",
    "    \n",
    "# even rows are testing data\n",
    "image_index = 0\n",
    "for i in range(0, 400, 2):\n",
    "    testing_data[image_index, :] = data_matrix[i]\n",
    "    testing_labels[image_index] = label_vector[i]\n",
    "    image_index += 1  \n"
   ]
  },
  {
   "cell_type": "code",
   "execution_count": 7,
   "metadata": {},
   "outputs": [
    {
     "data": {
      "text/plain": [
       "array([ 1.,  1.,  1.,  1.,  1.,  2.,  2.,  2.,  2.,  2.,  3.,  3.,  3.,\n",
       "        3.,  3.,  4.,  4.,  4.,  4.,  4.,  5.,  5.,  5.,  5.,  5.,  6.,\n",
       "        6.,  6.,  6.,  6.,  7.,  7.,  7.,  7.,  7.,  8.,  8.,  8.,  8.,\n",
       "        8.,  9.,  9.,  9.,  9.,  9., 10., 10., 10., 10., 10., 11., 11.,\n",
       "       11., 11., 11., 12., 12., 12., 12., 12., 13., 13., 13., 13., 13.,\n",
       "       14., 14., 14., 14., 14., 15., 15., 15., 15., 15., 16., 16., 16.,\n",
       "       16., 16., 17., 17., 17., 17., 17., 18., 18., 18., 18., 18., 19.,\n",
       "       19., 19., 19., 19., 20., 20., 20., 20., 20., 21., 21., 21., 21.,\n",
       "       21., 22., 22., 22., 22., 22., 23., 23., 23., 23., 23., 24., 24.,\n",
       "       24., 24., 24., 25., 25., 25., 25., 25., 26., 26., 26., 26., 26.,\n",
       "       27., 27., 27., 27., 27., 28., 28., 28., 28., 28., 29., 29., 29.,\n",
       "       29., 29., 30., 30., 30., 30., 30., 31., 31., 31., 31., 31., 32.,\n",
       "       32., 32., 32., 32., 33., 33., 33., 33., 33., 34., 34., 34., 34.,\n",
       "       34., 35., 35., 35., 35., 35., 36., 36., 36., 36., 36., 37., 37.,\n",
       "       37., 37., 37., 38., 38., 38., 38., 38., 39., 39., 39., 39., 39.,\n",
       "       40., 40., 40., 40., 40.])"
      ]
     },
     "execution_count": 7,
     "metadata": {},
     "output_type": "execute_result"
    }
   ],
   "source": [
    "training_labels"
   ]
  },
  {
   "cell_type": "markdown",
   "metadata": {},
   "source": [
    "## PCA"
   ]
  },
  {
   "cell_type": "code",
   "execution_count": 6,
   "metadata": {},
   "outputs": [],
   "source": [
    "# function to compute eigen pairs given a data matrix\n",
    "def computeEigenPairs(data):\n",
    "\n",
    "    # calculating mean vector\n",
    "    miu = np.mean(data, axis=0)\n",
    "\n",
    "    # centering data\n",
    "    Z = data - miu\n",
    "\n",
    "    # calculate covariance matrix\n",
    "    cov_mat = np.cov(Z.T)\n",
    "    \n",
    "    # calculate eigenvalues and eigenvectors\n",
    "    val, vec = np.linalg.eigh(cov_mat)\n",
    "\n",
    "    return val, vec, Z"
   ]
  },
  {
   "cell_type": "code",
   "execution_count": 7,
   "metadata": {},
   "outputs": [],
   "source": [
    "# calculating the eigen pairs. the values and vectors will be used for projection later\n",
    "val, vec, centered_data = computeEigenPairs(training_data)"
   ]
  },
  {
   "cell_type": "code",
   "execution_count": 8,
   "metadata": {},
   "outputs": [],
   "source": [
    "# sort eigen values in descending order along with coresponding eigen values \n",
    "idx = val.argsort()[::-1]  \n",
    "val = val[idx]\n",
    "vec = vec[:,idx]"
   ]
  },
  {
   "cell_type": "code",
   "execution_count": 9,
   "metadata": {},
   "outputs": [],
   "source": [
    "# calculating smallest r such that f(r) > alpha\n",
    "# f(r) is current_sum/val_sum\n",
    "# r will be the number of columns to take from eigen vectors\n",
    "def getDimensionality(val, alpha):\n",
    "    r = 0\n",
    "    current_sum = 0\n",
    "    val_sum = sum(val)\n",
    "    for x in range(len(val)):\n",
    "        if (current_sum/val_sum) < alpha:\n",
    "            current_sum = current_sum + val[x]\n",
    "            r = r + 1\n",
    "#     print(f\"r is {r}\")\n",
    "    return r"
   ]
  },
  {
   "cell_type": "code",
   "execution_count": 10,
   "metadata": {
    "scrolled": true
   },
   "outputs": [
    {
     "data": {
      "text/plain": [
       "<matplotlib.legend.Legend at 0x2c7c3f6cac8>"
      ]
     },
     "execution_count": 10,
     "metadata": {},
     "output_type": "execute_result"
    },
    {
     "data": {
      "image/png": "[encoded data removed]",
      "text/plain": [
       "<Figure size 432x288 with 1 Axes>"
      ]
     },
     "metadata": {
      "needs_background": "light"
     },
     "output_type": "display_data"
    }
   ],
   "source": [
    "# alpha_list = [0.1, 0.2, 0.3, 0.4, 0.5, 0.6, 0.7, 0.8, 0.85, 0.9, 0.95, 0.99999]\n",
    "alpha_list = [0.8, 0.85, 0.9, 0.95]\n",
    "\n",
    "# k_neighbours = [1, 2, 3, 4, 5, 6, 7, 8, 9, 10]\n",
    "k_neighbours = [1, 3, 5, 7]\n",
    "\n",
    "accuracy_list = []\n",
    "\n",
    "for i, alpha in enumerate(alpha_list):\n",
    "    # calculating smallest r such that f(r) > alpha\n",
    "    r = getDimensionality(val, alpha)\n",
    "\n",
    "    # creating projectoin matrix using dimensionality\n",
    "    projection_matrix = vec[:,0:r]\n",
    "\n",
    "    # projecting the training set\n",
    "    mean = np.mean(training_data, axis = 0)\n",
    "    Z = training_data - mean\n",
    "    projected_training_data = Z.dot(projection_matrix)\n",
    "\n",
    "    # other way to project data, not used.\n",
    "    projected_data2 = projection_matrix.T.dot(Z.T)\n",
    "\n",
    "    # projecting the test set\n",
    "    mean = np.mean(testing_data, axis = 0)\n",
    "    Z = testing_data - mean\n",
    "    projected_test_data = Z.dot(projection_matrix)\n",
    "    \n",
    "    # add extra list for accuracy correspoinding to this alpha value\n",
    "    accuracy_list.append([])\n",
    "    \n",
    "    # Classification and model testing\n",
    "    for j in k_neighbours:\n",
    "        knn = KNeighborsClassifier(n_neighbors=j)\n",
    "        knn.fit(projected_training_data, training_labels)\n",
    "        accuracy = knn.score(projected_test_data, testing_labels)\n",
    "        accuracy_list[i].append(accuracy)\n",
    "        # print(f\"alpha={alpha} num_neigbours={j} score={accuracy}\")\n",
    "\n",
    "# plotting the accuracy results\n",
    "for i in range(len(accuracy_list)):\n",
    "    plt.plot(k_neighbours, accuracy_list[i], label=alpha_list[i])\n",
    "plt.legend()"
   ]
  },
  {
   "cell_type": "markdown",
   "metadata": {},
   "source": [
    "### Observations\n",
    "It seems that as the value of alpha increases, the accuracy tends to be higher  \n",
    "for various values of K, however, for one value of alpha, the accuracy tends   \n",
    "to decrease the more neighbours we consider."
   ]
  },
  {
   "cell_type": "markdown",
   "metadata": {},
   "source": [
    "## LDA"
   ]
  },
  {
   "cell_type": "code",
   "execution_count": 31,
   "metadata": {},
   "outputs": [],
   "source": [
    "# Takes a long time!\n",
    "def computeEigenPairsLDA(training_data, training_labels, n_classes):\n",
    "    \n",
    "    # calculate mean vector for each class\n",
    "    mean_vector = np.zeros((n_classes, 10304))\n",
    "    for i in range(1, n_classes+1):\n",
    "        data = training_data[training_labels == i]\n",
    "        miu = np.mean(data, axis=0)\n",
    "        mean_vector[i-1, :] = miu\n",
    "\n",
    "    # Overall sample mean\n",
    "    overall_mean = np.mean(training_data, axis=0)\n",
    "    \n",
    "    # number of sample in the kth class is always 5 for this application\n",
    "    Nk = 5\n",
    "\n",
    "    # between class scatter matrix\n",
    "    Sb=np.zeros((10304,10304))\n",
    "    for k in range(1, n_classes+1):\n",
    "        v = mean_vector[i-1] - overall_mean\n",
    "        u = v.reshape(10304,1)\n",
    "        ut = np.array([v])\n",
    "        Sb += Nk * (np.matmul(u, ut))\n",
    "        \n",
    "    # initialize Z matrix that will contain centered class matrices\n",
    "    Z = np.zeros(training_data.shape)\n",
    "\n",
    "    # centering class matrices\n",
    "    for i in range(1,n_classes+1):\n",
    "        indices = training_labels == i\n",
    "        Z[indices] = training_data[indices] - mean_vector[i-1]\n",
    "        \n",
    "    ## class scatter matrices\n",
    "\n",
    "    # initialize whithin-class scatter matrix\n",
    "    S = np.zeros((10304, 10304))\n",
    "\n",
    "    for i in range(1, n_classes+1):\n",
    "        Si = Z[training_labels == 1].T.dot(Z[training_labels == 1])\n",
    "        S += Si\n",
    "\n",
    "    # calculatign the eigen values/vectors\n",
    "    S_inv = np.linalg.pinv(S)\n",
    "    temp = np.dot(S_inv, Sb)\n",
    "    val_LDA, vec_LDA = np.linalg.eigh(temp)\n",
    "    \n",
    "    return val_LDA, vec_LDA, Z"
   ]
  },
  {
   "cell_type": "code",
   "execution_count": 37,
   "metadata": {
    "scrolled": true
   },
   "outputs": [
    {
     "ename": "MemoryError",
     "evalue": "Unable to allocate 810. MiB for an array with shape (10304, 10304) and data type float64",
     "output_type": "error",
     "traceback": [
      "\u001b[1;31m---------------------------------------------------------------------------\u001b[0m",
      "\u001b[1;31mMemoryError\u001b[0m                               Traceback (most recent call last)",
      "\u001b[1;32m<ipython-input-37-f64df40d8fe1>\u001b[0m in \u001b[0;36m<module>\u001b[1;34m\u001b[0m\n\u001b[1;32m----> 1\u001b[1;33m \u001b[0mval_LDA\u001b[0m\u001b[1;33m,\u001b[0m \u001b[0mvec_LDA\u001b[0m\u001b[1;33m,\u001b[0m \u001b[0mZ\u001b[0m \u001b[1;33m=\u001b[0m \u001b[0mcomputeEigenPairsLDA\u001b[0m\u001b[1;33m(\u001b[0m\u001b[0mtraining_data\u001b[0m\u001b[1;33m,\u001b[0m \u001b[0mtraining_labels\u001b[0m\u001b[1;33m,\u001b[0m \u001b[1;36m40\u001b[0m\u001b[1;33m)\u001b[0m\u001b[1;33m\u001b[0m\u001b[0m\n\u001b[0m",
      "\u001b[1;32m<ipython-input-31-b58233172979>\u001b[0m in \u001b[0;36mcomputeEigenPairsLDA\u001b[1;34m(training_data, training_labels, n_classes)\u001b[0m\n\u001b[0;32m     41\u001b[0m \u001b[1;33m\u001b[0m\u001b[0m\n\u001b[0;32m     42\u001b[0m     \u001b[1;31m# calculatign the eigen values/vectors\u001b[0m\u001b[1;33m\u001b[0m\u001b[1;33m\u001b[0m\u001b[0m\n\u001b[1;32m---> 43\u001b[1;33m     \u001b[0mS_inv\u001b[0m \u001b[1;33m=\u001b[0m \u001b[0mnp\u001b[0m\u001b[1;33m.\u001b[0m\u001b[0mlinalg\u001b[0m\u001b[1;33m.\u001b[0m\u001b[0mpinv\u001b[0m\u001b[1;33m(\u001b[0m\u001b[0mS\u001b[0m\u001b[1;33m)\u001b[0m\u001b[1;33m\u001b[0m\u001b[0m\n\u001b[0m\u001b[0;32m     44\u001b[0m     \u001b[0mtemp\u001b[0m \u001b[1;33m=\u001b[0m \u001b[0mnp\u001b[0m\u001b[1;33m.\u001b[0m\u001b[0mdot\u001b[0m\u001b[1;33m(\u001b[0m\u001b[0mS_inv\u001b[0m\u001b[1;33m,\u001b[0m \u001b[0mSb\u001b[0m\u001b[1;33m)\u001b[0m\u001b[1;33m\u001b[0m\u001b[0m\n\u001b[0;32m     45\u001b[0m     \u001b[0mval_LDA\u001b[0m\u001b[1;33m,\u001b[0m \u001b[0mvec_LDA\u001b[0m \u001b[1;33m=\u001b[0m \u001b[0mnp\u001b[0m\u001b[1;33m.\u001b[0m\u001b[0mlinalg\u001b[0m\u001b[1;33m.\u001b[0m\u001b[0meigh\u001b[0m\u001b[1;33m(\u001b[0m\u001b[0mtemp\u001b[0m\u001b[1;33m)\u001b[0m\u001b[1;33m\u001b[0m\u001b[0m\n",
      "\u001b[1;32m<__array_function__ internals>\u001b[0m in \u001b[0;36mpinv\u001b[1;34m(*args, **kwargs)\u001b[0m\n",
      "\u001b[1;32mc:\\users\\karim\\appdata\\local\\programs\\python\\python37\\lib\\site-packages\\numpy\\linalg\\linalg.py\u001b[0m in \u001b[0;36mpinv\u001b[1;34m(a, rcond, hermitian)\u001b[0m\n\u001b[0;32m   1959\u001b[0m         \u001b[1;32mreturn\u001b[0m \u001b[0mwrap\u001b[0m\u001b[1;33m(\u001b[0m\u001b[0mres\u001b[0m\u001b[1;33m)\u001b[0m\u001b[1;33m\u001b[0m\u001b[0m\n\u001b[0;32m   1960\u001b[0m     \u001b[0ma\u001b[0m \u001b[1;33m=\u001b[0m \u001b[0ma\u001b[0m\u001b[1;33m.\u001b[0m\u001b[0mconjugate\u001b[0m\u001b[1;33m(\u001b[0m\u001b[1;33m)\u001b[0m\u001b[1;33m\u001b[0m\u001b[0m\n\u001b[1;32m-> 1961\u001b[1;33m     \u001b[0mu\u001b[0m\u001b[1;33m,\u001b[0m \u001b[0ms\u001b[0m\u001b[1;33m,\u001b[0m \u001b[0mvt\u001b[0m \u001b[1;33m=\u001b[0m \u001b[0msvd\u001b[0m\u001b[1;33m(\u001b[0m\u001b[0ma\u001b[0m\u001b[1;33m,\u001b[0m \u001b[0mfull_matrices\u001b[0m\u001b[1;33m=\u001b[0m\u001b[1;32mFalse\u001b[0m\u001b[1;33m,\u001b[0m \u001b[0mhermitian\u001b[0m\u001b[1;33m=\u001b[0m\u001b[0mhermitian\u001b[0m\u001b[1;33m)\u001b[0m\u001b[1;33m\u001b[0m\u001b[0m\n\u001b[0m\u001b[0;32m   1962\u001b[0m \u001b[1;33m\u001b[0m\u001b[0m\n\u001b[0;32m   1963\u001b[0m     \u001b[1;31m# discard small singular values\u001b[0m\u001b[1;33m\u001b[0m\u001b[1;33m\u001b[0m\u001b[0m\n",
      "\u001b[1;32m<__array_function__ internals>\u001b[0m in \u001b[0;36msvd\u001b[1;34m(*args, **kwargs)\u001b[0m\n",
      "\u001b[1;32mc:\\users\\karim\\appdata\\local\\programs\\python\\python37\\lib\\site-packages\\numpy\\linalg\\linalg.py\u001b[0m in \u001b[0;36msvd\u001b[1;34m(a, full_matrices, compute_uv, hermitian)\u001b[0m\n\u001b[0;32m   1624\u001b[0m \u001b[1;33m\u001b[0m\u001b[0m\n\u001b[0;32m   1625\u001b[0m         \u001b[0msignature\u001b[0m \u001b[1;33m=\u001b[0m \u001b[1;34m'D->DdD'\u001b[0m \u001b[1;32mif\u001b[0m \u001b[0misComplexType\u001b[0m\u001b[1;33m(\u001b[0m\u001b[0mt\u001b[0m\u001b[1;33m)\u001b[0m \u001b[1;32melse\u001b[0m \u001b[1;34m'd->ddd'\u001b[0m\u001b[1;33m\u001b[0m\u001b[0m\n\u001b[1;32m-> 1626\u001b[1;33m         \u001b[0mu\u001b[0m\u001b[1;33m,\u001b[0m \u001b[0ms\u001b[0m\u001b[1;33m,\u001b[0m \u001b[0mvh\u001b[0m \u001b[1;33m=\u001b[0m \u001b[0mgufunc\u001b[0m\u001b[1;33m(\u001b[0m\u001b[0ma\u001b[0m\u001b[1;33m,\u001b[0m \u001b[0msignature\u001b[0m\u001b[1;33m=\u001b[0m\u001b[0msignature\u001b[0m\u001b[1;33m,\u001b[0m \u001b[0mextobj\u001b[0m\u001b[1;33m=\u001b[0m\u001b[0mextobj\u001b[0m\u001b[1;33m)\u001b[0m\u001b[1;33m\u001b[0m\u001b[0m\n\u001b[0m\u001b[0;32m   1627\u001b[0m         \u001b[0mu\u001b[0m \u001b[1;33m=\u001b[0m \u001b[0mu\u001b[0m\u001b[1;33m.\u001b[0m\u001b[0mastype\u001b[0m\u001b[1;33m(\u001b[0m\u001b[0mresult_t\u001b[0m\u001b[1;33m,\u001b[0m \u001b[0mcopy\u001b[0m\u001b[1;33m=\u001b[0m\u001b[1;32mFalse\u001b[0m\u001b[1;33m)\u001b[0m\u001b[1;33m\u001b[0m\u001b[0m\n\u001b[0;32m   1628\u001b[0m         \u001b[0ms\u001b[0m \u001b[1;33m=\u001b[0m \u001b[0ms\u001b[0m\u001b[1;33m.\u001b[0m\u001b[0mastype\u001b[0m\u001b[1;33m(\u001b[0m\u001b[0m_realType\u001b[0m\u001b[1;33m(\u001b[0m\u001b[0mresult_t\u001b[0m\u001b[1;33m)\u001b[0m\u001b[1;33m,\u001b[0m \u001b[0mcopy\u001b[0m\u001b[1;33m=\u001b[0m\u001b[1;32mFalse\u001b[0m\u001b[1;33m)\u001b[0m\u001b[1;33m\u001b[0m\u001b[0m\n",
      "\u001b[1;31mMemoryError\u001b[0m: Unable to allocate 810. MiB for an array with shape (10304, 10304) and data type float64"
     ]
    }
   ],
   "source": [
    "val_LDA, vec_LDA, Z = computeEigenPairsLDA(training_data, training_labels, 40)"
   ]
  },
  {
   "cell_type": "code",
   "execution_count": 33,
   "metadata": {},
   "outputs": [
    {
     "ename": "NameError",
     "evalue": "name 'val_LDA' is not defined",
     "output_type": "error",
     "traceback": [
      "\u001b[1;31m---------------------------------------------------------------------------\u001b[0m",
      "\u001b[1;31mNameError\u001b[0m                                 Traceback (most recent call last)",
      "\u001b[1;32m<ipython-input-33-47cd35679633>\u001b[0m in \u001b[0;36m<module>\u001b[1;34m\u001b[0m\n\u001b[0;32m      1\u001b[0m \u001b[1;31m# sort eigen values in descending order along with coresponding eigen values\u001b[0m\u001b[1;33m\u001b[0m\u001b[1;33m\u001b[0m\u001b[0m\n\u001b[1;32m----> 2\u001b[1;33m \u001b[0midx\u001b[0m \u001b[1;33m=\u001b[0m \u001b[0mval_LDA\u001b[0m\u001b[1;33m.\u001b[0m\u001b[0margsort\u001b[0m\u001b[1;33m(\u001b[0m\u001b[1;33m)\u001b[0m\u001b[1;33m[\u001b[0m\u001b[1;33m:\u001b[0m\u001b[1;33m:\u001b[0m\u001b[1;33m-\u001b[0m\u001b[1;36m1\u001b[0m\u001b[1;33m]\u001b[0m\u001b[1;33m\u001b[0m\u001b[0m\n\u001b[0m\u001b[0;32m      3\u001b[0m \u001b[0mval_LDA\u001b[0m \u001b[1;33m=\u001b[0m \u001b[0mval_LDA\u001b[0m\u001b[1;33m[\u001b[0m\u001b[0midx\u001b[0m\u001b[1;33m]\u001b[0m\u001b[1;33m\u001b[0m\u001b[0m\n\u001b[0;32m      4\u001b[0m \u001b[0mvec_LDA\u001b[0m \u001b[1;33m=\u001b[0m \u001b[0mvec_LDA\u001b[0m\u001b[1;33m[\u001b[0m\u001b[1;33m:\u001b[0m\u001b[1;33m,\u001b[0m\u001b[0midx\u001b[0m\u001b[1;33m]\u001b[0m\u001b[1;33m\u001b[0m\u001b[0m\n",
      "\u001b[1;31mNameError\u001b[0m: name 'val_LDA' is not defined"
     ]
    }
   ],
   "source": [
    "# sort eigen values in descending order along with coresponding eigen values \n",
    "idx = val_LDA.argsort()[::-1]  \n",
    "val_LDA = val_LDA[idx]\n",
    "vec_LDA = vec_LDA[:,idx]"
   ]
  },
  {
   "cell_type": "code",
   "execution_count": null,
   "metadata": {},
   "outputs": [],
   "source": [
    "# The projection matrix - take dominant 39 vectors\n",
    "projection_matrix_LDA = vec_LDA[:,0:39]"
   ]
  },
  {
   "cell_type": "code",
   "execution_count": null,
   "metadata": {},
   "outputs": [],
   "source": [
    "# calculate mean vector for each class\n",
    "mean_vector = np.zeros((40, 10304))\n",
    "for i in range(1, 41):\n",
    "    data = training_data[training_labels == i]\n",
    "    miu = np.mean(data, axis=0)\n",
    "    mean_vector[i-1, :] = miu\n",
    "\n",
    "# initialize Z matrix for training data\n",
    "Z = np.zeros(testing_data.shape)\n",
    "\n",
    "# centering training data\n",
    "for i in range(1,41):\n",
    "    indices = testing_labels == i\n",
    "    Z[indices] = testing_data[indices] - mean_vector[i-1]\n",
    "    \n",
    "# projecting the training data\n",
    "projected_training_data_LDA = Z.dot(projection_matrix_LDA)"
   ]
  },
  {
   "cell_type": "code",
   "execution_count": null,
   "metadata": {},
   "outputs": [],
   "source": [
    "# calculate mean vector for each class\n",
    "mean_vector = np.zeros((40, 10304))\n",
    "for i in range(1, 40+1):\n",
    "    data = testing_data[testing_labels == i]\n",
    "    miu = np.mean(data, axis=0)\n",
    "    mean_vector[i-1, :] = miu\n",
    "\n",
    "# initialize Z matrix for testing data\n",
    "Z = np.zeros(testing_data.shape)\n",
    "\n",
    "# centering testing data\n",
    "for i in range(1,41):\n",
    "    indices = testing_labels == i\n",
    "    Z[indices] = testing_data[indices] - mean_vector[i-1]\n",
    "    \n",
    "# projecitng testing data\n",
    "projected_testing_data_LDA = Z.dot(projection_matrix_LDA)"
   ]
  },
  {
   "cell_type": "code",
   "execution_count": null,
   "metadata": {},
   "outputs": [],
   "source": [
    "k_neighbours = [1, 3, 5, 7]\n",
    "accuracy_list = []\n",
    "\n",
    "# Classification and model testing\n",
    "for j in k_neighbours:\n",
    "    knn = KNeighborsClassifier(n_neighbors=j)\n",
    "    knn.fit(projected_training_data_LDA, training_labels)\n",
    "    accuracy = knn.score(projected_testing_data_LDA, testing_labels)\n",
    "    accuracy_list.append(accuracy)\n",
    "    \n",
    "plt.plot(k_neighbours, accuracy_list)"
   ]
  },
  {
   "cell_type": "markdown",
   "metadata": {},
   "source": [
    "### Observations and comparison with PCA\n",
    "LDA reports higher accuracy for lower values of K compared to PCA,   \n",
    "but for higher values of K, the accuracy is much lower"
   ]
  },
  {
   "cell_type": "markdown",
   "metadata": {},
   "source": [
    "## Face vs not-face classification problem"
   ]
  },
  {
   "cell_type": "markdown",
   "metadata": {},
   "source": [
    "# First step is transforming new non-face data into same format as image data\n",
    "the labels in this case will be 1 for not-face, and 2 for face"
   ]
  },
  {
   "cell_type": "code",
   "execution_count": null,
   "metadata": {},
   "outputs": [],
   "source": [
    "# name of the directory in which the image data lies\n",
    "directory = 'non_face'\n",
    "\n",
    "# a list containing the names of all files in the directory\n",
    "file_list = os.listdir(directory)\n",
    "\n",
    "# These lists will be turned into numpy arrays later\n",
    "# similar to the initial data matrix, they will contain \n",
    "# an array of numerical values representing the images \n",
    "data_matrix_no_face = []\n",
    "label_vector_no_face = []\n",
    "\n",
    "for filename in file_list:\n",
    "    image = PImage.open(f\"{directory}/{filename}\")\n",
    "    \n",
    "    # our images are not greyscal, so we need to convert them\n",
    "    image_greyscale = image.convert('L')\n",
    "    \n",
    "    # we need to resize the images to the same size as the face images\n",
    "    final_image = image_greyscale.resize((92, 112))\n",
    "    \n",
    "    # put the image in the mentioned list and add a label (0)\n",
    "    data_matrix_no_face.append(np.asarray(final_image).flatten())\n",
    "    label_vector_no_face.append(1)\n",
    "    \n",
    "    image.close()\n",
    "\n",
    "# turn the lists into numpy arrays\n",
    "data_matrix_no_face = np.array(data_matrix_no_face)\n",
    "label_vector_no_face = np.array(label_vector_no_face)"
   ]
  },
  {
   "cell_type": "code",
   "execution_count": null,
   "metadata": {},
   "outputs": [],
   "source": [
    "display(final_image)\n",
    "PImage.fromarray(data_matrix_no_face[0].reshape((92,112)))"
   ]
  },
  {
   "cell_type": "code",
   "execution_count": null,
   "metadata": {},
   "outputs": [],
   "source": [
    "data_matrix_no_face.shape"
   ]
  },
  {
   "cell_type": "markdown",
   "metadata": {},
   "source": [
    "Second step it to put the face and non face data into the same data matrix"
   ]
  },
  {
   "cell_type": "code",
   "execution_count": null,
   "metadata": {},
   "outputs": [],
   "source": [
    "# merge both data matrices\n",
    "data_matrix_all = np.vstack((data_matrix, data_matrix_no_face))\n",
    "\n",
    "# create a label vector of all 1s representing faces from face data\n",
    "label_vector_temp = np.ones(len(label_vector), dtype='int')*2\n",
    "\n",
    "# a label vector containing labels of both face and not-face classes\n",
    "label_vector_all = np.hstack((label_vector_temp, label_vector_no_face))"
   ]
  },
  {
   "cell_type": "markdown",
   "metadata": {},
   "source": [
    "Third step is splitting the data"
   ]
  },
  {
   "cell_type": "code",
   "execution_count": null,
   "metadata": {},
   "outputs": [],
   "source": [
    "total_number_of_data = label_vector_all.shape[0]\n",
    "data_trainin_fraction = int(total_number_of_data / 2)\n",
    "data_testing_fracrion = int(total_number_of_data / 2)\n",
    "\n",
    "training_data = np.zeros((data_trainin_fraction,10304))\n",
    "testing_data = np.zeros((data_testing_fracrion,10304))\n",
    "\n",
    "training_labels = np.zeros(data_trainin_fraction)\n",
    "testing_labels =  np.zeros(data_testing_fracrion)\n",
    "\n",
    "# odd rows are training data\n",
    "image_index = 0\n",
    "for i in range(1, total_number_of_data, 2):\n",
    "    training_data[image_index, :] = data_matrix_all[i]\n",
    "    training_labels[image_index] = label_vector_all[i]\n",
    "    image_index += 1  \n",
    "    \n",
    "# even rows are testing data\n",
    "image_index = 0\n",
    "for i in range(0, total_number_of_data, 2):\n",
    "    testing_data[image_index, :] = data_matrix_all[i]\n",
    "    testing_labels[image_index] = label_vector_all[i]\n",
    "    image_index += 1  "
   ]
  },
  {
   "cell_type": "code",
   "execution_count": null,
   "metadata": {
    "scrolled": true
   },
   "outputs": [],
   "source": [
    "PImage.fromarray(training_data[0].reshape((92,112)), 'L')"
   ]
  },
  {
   "cell_type": "code",
   "execution_count": null,
   "metadata": {},
   "outputs": [],
   "source": [
    "def computeEigenPairs2Class(training_data, training_labels, n_classes):\n",
    "    \n",
    "    # calculate mean vector for each class\n",
    "    mean_vector = np.zeros((n_classes, 10304))\n",
    "    for i in range(1, n_classes+1):\n",
    "        data = training_data[training_labels == i]\n",
    "        miu = np.mean(data, axis=0)\n",
    "        mean_vector[i-1, :] = miu\n",
    "\n",
    "    # Overall sample mean\n",
    "    overall_mean = np.mean(training_data, axis=0)\n",
    "    \n",
    "    # between class scatter matrix\n",
    "    Sb=np.zeros((10304,10304))\n",
    "    u1 = mean_vector[0] - overall_mean\n",
    "    u2 = mean_vector[1] - overall_mean\n",
    "    u1 = u1.reshape(10304, 1)\n",
    "    u2 = u2.reshape(1, 10304)\n",
    "    B = (u1-u2).dot((u1-u2).T)\n",
    "\n",
    "    # initialize Z matrix that will contain centered class matrices\n",
    "    Z = np.zeros(training_data.shape)\n",
    "\n",
    "    # centering class matrices\n",
    "    for i in range(1,n_classes+1):\n",
    "        indices = training_labels == i\n",
    "        Z[indices] = training_data[indices] - mean_vector[i-1]\n",
    "        \n",
    "    ## class scatter matrices\n",
    "\n",
    "    # initialize whithin-class scatter matrix\n",
    "    S = np.zeros((10304, 10304))\n",
    "\n",
    "    for i in range(1, n_classes+1):\n",
    "        Si = Z[training_labels == 1].T.dot(Z[training_labels == 1])\n",
    "        S += Si\n",
    "\n",
    "    # calculatign the eigen values/vectors\n",
    "    S_inv = np.linalg.pinv(S)\n",
    "    temp = np.dot(S_inv, B)\n",
    "    val_LDA, vec_LDA = np.linalg.eigh(temp)\n",
    "    \n",
    "    return val_LDA, vec_LDA, Z"
   ]
  },
  {
   "cell_type": "code",
   "execution_count": null,
   "metadata": {},
   "outputs": [],
   "source": [
    "# calculating Eigenpairs\n",
    "# Takes too long!\n",
    "val, vec, Z = computeEigenPairs2Class(training_data, training_labels, 2)"
   ]
  },
  {
   "cell_type": "code",
   "execution_count": null,
   "metadata": {},
   "outputs": [],
   "source": [
    "# sort eigen values in descending order along with coresponding eigen values \n",
    "idx = val.argsort()[::-1]  \n",
    "val = val[idx]\n",
    "vec = vec[:,idx]"
   ]
  },
  {
   "cell_type": "code",
   "execution_count": null,
   "metadata": {},
   "outputs": [],
   "source": [
    "# calculate mean vector for each class\n",
    "mean_vector = np.zeros((2, 10304))\n",
    "for i in range(1, 2+1):\n",
    "    data = training_data[training_labels == i]\n",
    "    miu = np.mean(data, axis=0)\n",
    "    mean_vector[i-1, :] = miu\n",
    "\n",
    "# The projection matrix - take dominant 40 vectors\n",
    "projection_matrix_2class = vec[:,0:40]\n",
    "\n",
    "# projecting the training data\n",
    "projected_training_data_2class = Z.dot(projection_matrix_2class)\n",
    "\n",
    "# initialize Z matrix for testing data\n",
    "Z = np.zeros(training_data.shape)\n",
    "\n",
    "# centering testing data\n",
    "for i in range(1,3):\n",
    "    indices = testing_labels == i\n",
    "    Z[indices] = testing_data[indices] - mean_vector[i-1]\n",
    "    \n",
    "# projecitng testing data\n",
    "projected_testing_data_2class = Z.dot(projection_matrix_2class)"
   ]
  },
  {
   "cell_type": "code",
   "execution_count": null,
   "metadata": {},
   "outputs": [],
   "source": [
    "k_neighbours = [1, 3, 5, 7]\n",
    "accuracy_list = []\n",
    "\n",
    "# Classification and model testing\n",
    "for j in k_neighbours:\n",
    "    knn = KNeighborsClassifier(n_neighbors=j)\n",
    "    knn.fit(projected_training_data_2class, training_labels)\n",
    "    accuracy = knn.score(projected_testing_data_2class, testing_labels)\n",
    "    accuracy_list.append(accuracy)\n",
    "    \n",
    "plt.plot(k_neighbours, accuracy_list)"
   ]
  },
  {
   "cell_type": "code",
   "execution_count": null,
   "metadata": {},
   "outputs": [],
   "source": [
    "knn = KNeighborsClassifier(n_neighbors=9)\n",
    "knn.fit(projected_training_data_2class, training_labels)\n",
    "fail = (knn.predict(projected_testing_data_2class) != testing_labels)"
   ]
  },
  {
   "cell_type": "code",
   "execution_count": null,
   "metadata": {},
   "outputs": [],
   "source": [
    "# attemting to view failed classifications\n",
    "a = testing_data[fail]\n",
    "for i in range(len(a)):\n",
    "    PImage.fromarray(a[i].reshape((92,112)), 'L')"
   ]
  },
  {
   "cell_type": "code",
   "execution_count": 34,
   "metadata": {},
   "outputs": [
    {
     "name": "stdout",
     "output_type": "stream",
     "text": [
      "Variable                  Type                    Data/Info\n",
      "-----------------------------------------------------------\n",
      "KNeighborsClassifier      ABCMeta                 <class 'sklearn.neighbors<...>on.KNeighborsClassifier'>\n",
      "NUM_IMAGE_PER_SUBJECT     int                     10\n",
      "NUM_SUBJECTS              int                     40\n",
      "PImage                    module                  <module 'PIL.Image' from <...>packages\\\\PIL\\\\Image.py'>\n",
      "Z                         ndarray                 200x10304: 2060800 elems, type `float64`, 16486400 bytes (15.72265625 Mb)\n",
      "accuracy                  float64                 0.73\n",
      "accuracy_list             list                    n=4\n",
      "alpha                     float                   0.95\n",
      "alpha_list                list                    n=4\n",
      "centered_data             ndarray                 200x10304: 2060800 elems, type `float64`, 16486400 bytes (15.72265625 Mb)\n",
      "computeEigenPairs         function                <function computeEigenPai<...>rs at 0x000002C788634048>\n",
      "computeEigenPairsLDA      function                <function computeEigenPai<...>DA at 0x000002C7C40C3EA0>\n",
      "data                      ndarray                 112x92: 10304 elems, type `uint8`, 10304 bytes\n",
      "data_matrix               ndarray                 400x10304: 4121600 elems, type `float64`, 32972800 bytes (31.4453125 Mb)\n",
      "data_testing_fracrion     int                     200\n",
      "data_trainin_fraction     int                     200\n",
      "display                   function                <function display at 0x000002C7F510F0D0>\n",
      "gc                        module                  <module 'gc' (built-in)>\n",
      "getDimensionality         function                <function getDimensionali<...>ty at 0x000002C7886340D0>\n",
      "i                         int                     3\n",
      "idx                       ndarray                 10304: 10304 elems, type `int64`, 82432 bytes\n",
      "image                     PpmImageFile            <PIL.PpmImagePlugin.PpmIm<...>=92x112 at 0x2C788624588>\n",
      "image_index               int                     200\n",
      "j                         int                     7\n",
      "k_neighbours              list                    n=4\n",
      "knn                       KNeighborsClassifier    KNeighborsClassifier(n_neighbors=7)\n",
      "label_vector              ndarray                 400: 400 elems, type `float64`, 3200 bytes\n",
      "mean                      ndarray                 10304: 10304 elems, type `float64`, 82432 bytes\n",
      "np                        module                  <module 'numpy' from 'c:\\<...>ges\\\\numpy\\\\__init__.py'>\n",
      "os                        module                  <module 'os' from 'c:\\\\us<...>n\\\\python37\\\\lib\\\\os.py'>\n",
      "plt                       module                  <module 'matplotlib.pyplo<...>\\\\matplotlib\\\\pyplot.py'>\n",
      "projected_data2           ndarray                 116x200: 23200 elems, type `float64`, 185600 bytes (181.25 kb)\n",
      "projected_test_data       ndarray                 200x116: 23200 elems, type `float64`, 185600 bytes (181.25 kb)\n",
      "projected_training_data   ndarray                 200x116: 23200 elems, type `float64`, 185600 bytes (181.25 kb)\n",
      "projection_matrix         ndarray                 10304x116: 1195264 elems, type `float64`, 9562112 bytes (9.119140625 Mb)\n",
      "r                         int                     116\n",
      "testing_data              ndarray                 200x10304: 2060800 elems, type `float64`, 16486400 bytes (15.72265625 Mb)\n",
      "testing_labels            ndarray                 200: 200 elems, type `float64`, 1600 bytes\n",
      "total_number_of_data      int                     400\n",
      "training_data             ndarray                 200x10304: 2060800 elems, type `float64`, 16486400 bytes (15.72265625 Mb)\n",
      "training_labels           ndarray                 200: 200 elems, type `float64`, 1600 bytes\n",
      "val                       ndarray                 10304: 10304 elems, type `float64`, 82432 bytes\n"
     ]
    }
   ],
   "source": [
    "%whos"
   ]
  },
  {
   "cell_type": "code",
   "execution_count": 36,
   "metadata": {},
   "outputs": [
    {
     "data": {
      "text/plain": [
       "0"
      ]
     },
     "execution_count": 36,
     "metadata": {},
     "output_type": "execute_result"
    }
   ],
   "source": [
    "import gc\n",
    "gc.collect()\n",
    "gc.collect()\n"
   ]
  },
  {
   "cell_type": "code",
   "execution_count": null,
   "metadata": {},
   "outputs": [],
   "source": []
  }
 ],
 "metadata": {
  "kernelspec": {
   "display_name": "Python 3",
   "language": "python",
   "name": "python3"
  },
  "language_info": {
   "codemirror_mode": {
    "name": "ipython",
    "version": 3
   },
   "file_extension": ".py",
   "mimetype": "text/x-python",
   "name": "python",
   "nbconvert_exporter": "python",
   "pygments_lexer": "ipython3",
   "version": "3.7.0"
  }
 },
 "nbformat": 4,
 "nbformat_minor": 4
}
